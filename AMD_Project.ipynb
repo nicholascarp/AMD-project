{
  "nbformat": 4,
  "nbformat_minor": 0,
  "metadata": {
    "colab": {
      "name": "AMD Project.ipynb",
      "provenance": []
    },
    "kernelspec": {
      "display_name": "Python 3",
      "name": "python3"
    }
  },
  "cells": [
    {
      "cell_type": "markdown",
      "metadata": {
        "id": "JtJMhm3AgCWt"
      },
      "source": [
        "# Market Basket Analysis with Spark on IMDB dataset\n"
      ]
    },
    {
      "cell_type": "markdown",
      "metadata": {
        "id": "qGk3dMILgP-P"
      },
      "source": [
        "## Downloading Data"
      ]
    },
    {
      "cell_type": "code",
      "metadata": {
        "id": "ivPm3WA3gAjX"
      },
      "source": [
        "from google.colab import files"
      ],
      "execution_count": null,
      "outputs": []
    },
    {
      "cell_type": "code",
      "metadata": {
        "id": "pMoMLEMkBTah"
      },
      "source": [
        "!pip install -q kaggle"
      ],
      "execution_count": null,
      "outputs": []
    },
    {
      "cell_type": "code",
      "metadata": {
        "id": "r3kGNngwBcGv",
        "colab": {
          "resources": {
            "http://localhost:8080/nbextensions/google.colab/files.js": {
              "data": "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",
              "ok": true,
              "headers": [
                [
                  "content-type",
                  "application/javascript"
                ]
              ],
              "status": 200,
              "status_text": ""
            }
          },
          "base_uri": "https://localhost:8080/",
          "height": 73
        },
        "outputId": "025c70ba-d18a-473f-8d0a-94a427e77dc1"
      },
      "source": [
        "uploaded = files.upload()"
      ],
      "execution_count": null,
      "outputs": [
        {
          "output_type": "display_data",
          "data": {
            "text/html": [
              "\n",
              "     <input type=\"file\" id=\"files-1d41f6f4-9642-4d26-9dac-faf62e3ccb7f\" name=\"files[]\" multiple disabled\n",
              "        style=\"border:none\" />\n",
              "     <output id=\"result-1d41f6f4-9642-4d26-9dac-faf62e3ccb7f\">\n",
              "      Upload widget is only available when the cell has been executed in the\n",
              "      current browser session. Please rerun this cell to enable.\n",
              "      </output>\n",
              "      <script src=\"/nbextensions/google.colab/files.js\"></script> "
            ],
            "text/plain": [
              "<IPython.core.display.HTML object>"
            ]
          },
          "metadata": {
            "tags": []
          }
        },
        {
          "output_type": "stream",
          "text": [
            "Saving kaggle.json to kaggle.json\n"
          ],
          "name": "stdout"
        }
      ]
    },
    {
      "cell_type": "code",
      "metadata": {
        "id": "tspXjvkVEmtk"
      },
      "source": [
        "! mkdir ~/.kaggle"
      ],
      "execution_count": null,
      "outputs": []
    },
    {
      "cell_type": "code",
      "metadata": {
        "id": "CCKNTGQPdVsI"
      },
      "source": [
        "! cp kaggle.json ~/.kaggle/"
      ],
      "execution_count": null,
      "outputs": []
    },
    {
      "cell_type": "code",
      "metadata": {
        "id": "v_Y_xm0EdeJU"
      },
      "source": [
        "! chmod 600 ~/.kaggle/kaggle.json"
      ],
      "execution_count": null,
      "outputs": []
    },
    {
      "cell_type": "code",
      "metadata": {
        "id": "p2fsx70ddipn",
        "colab": {
          "base_uri": "https://localhost:8080/"
        },
        "outputId": "2ef6f18c-cf28-4f7e-b6db-43fb099d64c2"
      },
      "source": [
        "! kaggle datasets list"
      ],
      "execution_count": null,
      "outputs": [
        {
          "output_type": "stream",
          "text": [
            "Warning: Your Kaggle API key is readable by other users on this system! To fix this, you can run 'chmod 600 /root/.kaggle/kaggle.json'\n",
            "Warning: Looks like you're using an outdated API Version, please consider updating (server 1.5.12 / client 1.5.4)\n",
            "ref                                                         title                                              size  lastUpdated          downloadCount  \n",
            "----------------------------------------------------------  ------------------------------------------------  -----  -------------------  -------------  \n",
            "gpreda/reddit-vaccine-myths                                 Reddit Vaccine Myths                              229KB  2021-06-14 06:30:31           7550  \n",
            "crowww/a-large-scale-fish-dataset                           A Large Scale Fish Dataset                          3GB  2021-04-28 17:03:01           4591  \n",
            "imsparsh/musicnet-dataset                                   MusicNet Dataset                                   22GB  2021-02-18 14:12:19           1546  \n",
            "dhruvildave/wikibooks-dataset                               Wikibooks Dataset                                   1GB  2021-06-09 15:58:24           2223  \n",
            "fatiimaezzahra/famous-iconic-women                          Famous Iconic Women                               838MB  2021-02-28 14:56:00            761  \n",
            "alsgroup/end-als                                            End ALS Kaggle Challenge                           12GB  2021-04-08 12:16:37            720  \n",
            "nickuzmenkov/nih-chest-xrays-tfrecords                      NIH Chest X-rays TFRecords                         11GB  2021-03-09 04:49:23            584  \n",
            "mathurinache/twitter-edge-nodes                             Twitter Edge Nodes                                342MB  2021-03-08 06:43:04            506  \n",
            "promptcloud/careerbuilder-job-listing-2020                  Careerbuilder Job Listing 2020                     42MB  2021-03-05 06:59:52           1070  \n",
            "coloradokb/dandelionimages                                  DandelionImages                                     4GB  2021-02-19 20:03:47            465  \n",
            "simiotic/github-code-snippets                               GitHub Code Snippets                                7GB  2021-03-03 11:34:39            156  \n",
            "nickuzmenkov/ranzcr-clip-kfold-tfrecords                    RANZCR CLiP KFold TFRecords                         2GB  2021-02-21 13:29:51             83  \n",
            "imsparsh/accentdb-core-extended                             AccentDB - Core & Extended                          6GB  2021-02-17 14:22:54             84  \n",
            "mathurinache/the-lj-speech-dataset                          The LJ Speech Dataset                               3GB  2021-02-15 09:19:54            178  \n",
            "stuartjames/lights                                          LightS: Light Specularity Dataset                  18GB  2021-02-18 14:32:26             76  \n",
            "landrykezebou/lvzhdr-tone-mapping-benchmark-dataset-tmonet  LVZ-HDR Tone Mapping Benchmark Dataset (TMO-Net)   24GB  2021-03-01 05:03:40            109  \n",
            "datasnaek/youtube-new                                       Trending YouTube Video Statistics                 201MB  2019-06-03 00:56:47         142501  \n",
            "zynicide/wine-reviews                                       Wine Reviews                                       51MB  2017-11-27 17:08:04         138478  \n",
            "residentmario/ramen-ratings                                 Ramen Ratings                                      40KB  2018-01-11 16:04:39          24028  \n",
            "datasnaek/chess                                             Chess Game Dataset (Lichess)                        3MB  2017-09-04 03:09:09          19291  \n"
          ],
          "name": "stdout"
        }
      ]
    },
    {
      "cell_type": "code",
      "metadata": {
        "id": "1fuX8bM1gtVf",
        "colab": {
          "base_uri": "https://localhost:8080/"
        },
        "outputId": "c2cce8a3-4a1e-4c94-f205-8c035b07f452"
      },
      "source": [
        "!kaggle datasets download -d ashirwadsangwan/imdb-dataset"
      ],
      "execution_count": null,
      "outputs": [
        {
          "output_type": "stream",
          "text": [
            "Downloading imdb-dataset.zip to /content\n",
            "100% 1.44G/1.44G [00:14<00:00, 123MB/s]\n",
            "100% 1.44G/1.44G [00:14<00:00, 104MB/s]\n"
          ],
          "name": "stdout"
        }
      ]
    },
    {
      "cell_type": "code",
      "metadata": {
        "id": "pZJAZPxcgvkt",
        "colab": {
          "base_uri": "https://localhost:8080/"
        },
        "outputId": "5db20211-d8fd-48e9-f7e8-173de52ab467"
      },
      "source": [
        "from google.colab import drive\n",
        "drive.mount('/content/drive')"
      ],
      "execution_count": null,
      "outputs": [
        {
          "output_type": "stream",
          "text": [
            "Mounted at /content/drive\n"
          ],
          "name": "stdout"
        }
      ]
    },
    {
      "cell_type": "code",
      "metadata": {
        "id": "FAClyRzJxZw6"
      },
      "source": [
        "import pandas as pd\n",
        "from zipfile import ZipFile\n",
        "with ZipFile(\"imdb-dataset.zip\", 'r') as myzip:\n",
        "    myzip.extractall(\".\")"
      ],
      "execution_count": null,
      "outputs": []
    },
    {
      "cell_type": "code",
      "metadata": {
        "id": "Ca0fEnFQmUh7"
      },
      "source": [
        "name_basics_path = '/content/name.basics.tsv/name.basics.tsv'\n",
        "title_basics_path = '/content/title.basics.tsv/title.basics.tsv'\n",
        "title_principals_path = '/content/title.principals.tsv/title.principals.tsv'\n",
        "title_ratings_path = '/content/title.ratings.tsv/title.ratings.tsv'"
      ],
      "execution_count": null,
      "outputs": []
    },
    {
      "cell_type": "markdown",
      "metadata": {
        "id": "TLafF55zgk5D"
      },
      "source": [
        "## Preprocessing"
      ]
    },
    {
      "cell_type": "code",
      "metadata": {
        "id": "dQ0Ase3bDTlS",
        "colab": {
          "base_uri": "https://localhost:8080/"
        },
        "outputId": "8e704384-067d-420e-e598-fc6b81995bc3"
      },
      "source": [
        "!pip install pyspark\n",
        "import pyspark\n",
        "import pandas as pd\n",
        "from pyspark import SparkConf, SparkContext\n",
        "from pyspark.sql import SparkSession\n",
        "import seaborn as sns\n",
        "import matplotlib.pyplot as plt\n",
        "from wordcloud import WordCloud\n",
        "sc = pyspark.SparkContext('local[*]')"
      ],
      "execution_count": null,
      "outputs": [
        {
          "output_type": "stream",
          "text": [
            "Collecting pyspark\n",
            "\u001b[?25l  Downloading https://files.pythonhosted.org/packages/89/db/e18cfd78e408de957821ec5ca56de1250645b05f8523d169803d8df35a64/pyspark-3.1.2.tar.gz (212.4MB)\n",
            "\u001b[K     |████████████████████████████████| 212.4MB 60kB/s \n",
            "\u001b[?25hCollecting py4j==0.10.9\n",
            "\u001b[?25l  Downloading https://files.pythonhosted.org/packages/9e/b6/6a4fb90cd235dc8e265a6a2067f2a2c99f0d91787f06aca4bcf7c23f3f80/py4j-0.10.9-py2.py3-none-any.whl (198kB)\n",
            "\u001b[K     |████████████████████████████████| 204kB 12.4MB/s \n",
            "\u001b[?25hBuilding wheels for collected packages: pyspark\n",
            "  Building wheel for pyspark (setup.py) ... \u001b[?25l\u001b[?25hdone\n",
            "  Created wheel for pyspark: filename=pyspark-3.1.2-py2.py3-none-any.whl size=212880768 sha256=73ed8961f445987a5f8d44858e11695b566f3e33976208f52b03431fcc28957b\n",
            "  Stored in directory: /root/.cache/pip/wheels/40/1b/2c/30f43be2627857ab80062bef1527c0128f7b4070b6b2d02139\n",
            "Successfully built pyspark\n",
            "Installing collected packages: py4j, pyspark\n",
            "Successfully installed py4j-0.10.9 pyspark-3.1.2\n"
          ],
          "name": "stdout"
        }
      ]
    },
    {
      "cell_type": "code",
      "metadata": {
        "id": "3gDA8Q0nDY6m"
      },
      "source": [
        "spark = SparkSession.builder.enableHiveSupport().getOrCreate()"
      ],
      "execution_count": null,
      "outputs": []
    },
    {
      "cell_type": "markdown",
      "metadata": {
        "id": "dekgr-KBgu-M"
      },
      "source": [
        "SPARK DATAFRAME CREATION\n"
      ]
    },
    {
      "cell_type": "code",
      "metadata": {
        "id": "9z1OdUMN07xt"
      },
      "source": [
        "name_basics_s = spark.read.csv(name_basics_path,sep='\\t',header=True)\n"
      ],
      "execution_count": null,
      "outputs": []
    },
    {
      "cell_type": "code",
      "metadata": {
        "id": "471ZBBtNEkgj"
      },
      "source": [
        "title_basics_s = spark.read.csv(title_basics_path, header=True,sep='\\t')"
      ],
      "execution_count": null,
      "outputs": []
    },
    {
      "cell_type": "code",
      "metadata": {
        "id": "ibrGH-g1ElWX"
      },
      "source": [
        "title_principals_s = spark.read.csv(title_principals_path, header=True,sep='\\t')"
      ],
      "execution_count": null,
      "outputs": []
    },
    {
      "cell_type": "code",
      "metadata": {
        "id": "jB9ZDiXBElZE"
      },
      "source": [
        "title_ratings_s = spark.read.csv(title_ratings_path, header=True,sep='\\t')"
      ],
      "execution_count": null,
      "outputs": []
    },
    {
      "cell_type": "code",
      "metadata": {
        "id": "BA3fwPCl070Y",
        "colab": {
          "base_uri": "https://localhost:8080/"
        },
        "outputId": "da946566-2268-43c6-b10c-089823dcc14e"
      },
      "source": [
        "type(name_basics_s)"
      ],
      "execution_count": null,
      "outputs": [
        {
          "output_type": "execute_result",
          "data": {
            "text/plain": [
              "pyspark.sql.dataframe.DataFrame"
            ]
          },
          "metadata": {
            "tags": []
          },
          "execution_count": 18
        }
      ]
    },
    {
      "cell_type": "code",
      "metadata": {
        "id": "lisKTkOxVrBa",
        "colab": {
          "base_uri": "https://localhost:8080/"
        },
        "outputId": "bdf21f36-6f20-42d2-d01d-49d0723c296b"
      },
      "source": [
        "title_basics_s.printSchema()"
      ],
      "execution_count": null,
      "outputs": [
        {
          "output_type": "stream",
          "text": [
            "root\n",
            " |-- tconst: string (nullable = true)\n",
            " |-- titleType: string (nullable = true)\n",
            " |-- primaryTitle: string (nullable = true)\n",
            " |-- originalTitle: string (nullable = true)\n",
            " |-- isAdult: string (nullable = true)\n",
            " |-- startYear: string (nullable = true)\n",
            " |-- endYear: string (nullable = true)\n",
            " |-- runtimeMinutes: string (nullable = true)\n",
            " |-- genres: string (nullable = true)\n",
            "\n"
          ],
          "name": "stdout"
        }
      ]
    },
    {
      "cell_type": "code",
      "metadata": {
        "id": "9e9AVnmSI4QS"
      },
      "source": [
        "name_basics_s.createOrReplaceTempView(\"name_basics_s\")\n",
        "title_basics_s.createOrReplaceTempView(\"title_basics_s\")\n",
        "title_principals_s.createOrReplaceTempView(\"title_principals_s\")\n",
        "title_ratings_s.createOrReplaceTempView(\"title_ratings_s\")"
      ],
      "execution_count": null,
      "outputs": []
    },
    {
      "cell_type": "markdown",
      "metadata": {
        "id": "2lsyE_6ghAv8"
      },
      "source": [
        "EXPLORING DATA"
      ]
    },
    {
      "cell_type": "code",
      "metadata": {
        "colab": {
          "base_uri": "https://localhost:8080/"
        },
        "id": "TtpodlfOI4VQ",
        "outputId": "aae23a73-b5d3-4929-dffa-6303aaff9e9b"
      },
      "source": [
        "name_basics_s.show(n = 5,)"
      ],
      "execution_count": null,
      "outputs": [
        {
          "output_type": "stream",
          "text": [
            "+---------+---------------+---------+---------+--------------------+--------------------+\n",
            "|   nconst|    primaryName|birthYear|deathYear|   primaryProfession|      knownForTitles|\n",
            "+---------+---------------+---------+---------+--------------------+--------------------+\n",
            "|nm0000001|   Fred Astaire|     1899|     1987|soundtrack,actor,...|tt0050419,tt00531...|\n",
            "|nm0000002|  Lauren Bacall|     1924|     2014|  actress,soundtrack|tt0071877,tt01170...|\n",
            "|nm0000003|Brigitte Bardot|     1934|       \\N|actress,soundtrac...|tt0054452,tt00491...|\n",
            "|nm0000004|   John Belushi|     1949|     1982|actor,writer,soun...|tt0077975,tt00725...|\n",
            "|nm0000005| Ingmar Bergman|     1918|     2007|writer,director,a...|tt0069467,tt00509...|\n",
            "+---------+---------------+---------+---------+--------------------+--------------------+\n",
            "only showing top 5 rows\n",
            "\n"
          ],
          "name": "stdout"
        }
      ]
    },
    {
      "cell_type": "code",
      "metadata": {
        "colab": {
          "base_uri": "https://localhost:8080/"
        },
        "id": "4t0u-58F5LNa",
        "outputId": "fca67432-480a-4268-eeb5-2e62a62018c4"
      },
      "source": [
        "title_basics_s.show(5)"
      ],
      "execution_count": null,
      "outputs": [
        {
          "output_type": "stream",
          "text": [
            "+---------+---------+--------------------+--------------------+-------+---------+-------+--------------+--------------------+\n",
            "|   tconst|titleType|        primaryTitle|       originalTitle|isAdult|startYear|endYear|runtimeMinutes|              genres|\n",
            "+---------+---------+--------------------+--------------------+-------+---------+-------+--------------+--------------------+\n",
            "|tt0000001|    short|          Carmencita|          Carmencita|      0|     1894|     \\N|             1|   Documentary,Short|\n",
            "|tt0000002|    short|Le clown et ses c...|Le clown et ses c...|      0|     1892|     \\N|             5|     Animation,Short|\n",
            "|tt0000003|    short|      Pauvre Pierrot|      Pauvre Pierrot|      0|     1892|     \\N|             4|Animation,Comedy,...|\n",
            "|tt0000004|    short|         Un bon bock|         Un bon bock|      0|     1892|     \\N|            \\N|     Animation,Short|\n",
            "|tt0000005|    short|    Blacksmith Scene|    Blacksmith Scene|      0|     1893|     \\N|             1|        Comedy,Short|\n",
            "+---------+---------+--------------------+--------------------+-------+---------+-------+--------------+--------------------+\n",
            "only showing top 5 rows\n",
            "\n"
          ],
          "name": "stdout"
        }
      ]
    },
    {
      "cell_type": "code",
      "metadata": {
        "colab": {
          "base_uri": "https://localhost:8080/"
        },
        "id": "VUpGvYdKI4as",
        "outputId": "fc05390c-d4e6-47c8-fe11-d92da06525c6"
      },
      "source": [
        "title_principals_s.show(n = 5)"
      ],
      "execution_count": null,
      "outputs": [
        {
          "output_type": "stream",
          "text": [
            "+---------+--------+---------+---------------+--------------------+-----------+\n",
            "|   tconst|ordering|   nconst|       category|                 job| characters|\n",
            "+---------+--------+---------+---------------+--------------------+-----------+\n",
            "|tt0000001|       1|nm1588970|           self|                  \\N|[\"Herself\"]|\n",
            "|tt0000001|       2|nm0005690|       director|                  \\N|         \\N|\n",
            "|tt0000001|       3|nm0374658|cinematographer|director of photo...|         \\N|\n",
            "|tt0000002|       1|nm0721526|       director|                  \\N|         \\N|\n",
            "|tt0000002|       2|nm1335271|       composer|                  \\N|         \\N|\n",
            "+---------+--------+---------+---------------+--------------------+-----------+\n",
            "only showing top 5 rows\n",
            "\n"
          ],
          "name": "stdout"
        }
      ]
    },
    {
      "cell_type": "code",
      "metadata": {
        "colab": {
          "base_uri": "https://localhost:8080/"
        },
        "id": "Ys7eEa5CI4dZ",
        "outputId": "952ae394-dc38-4096-e4ed-e0bc089db23e"
      },
      "source": [
        "title_ratings_s.show(n = 5)"
      ],
      "execution_count": null,
      "outputs": [
        {
          "output_type": "stream",
          "text": [
            "+---------+-------------+--------+\n",
            "|   tconst|averageRating|numVotes|\n",
            "+---------+-------------+--------+\n",
            "|tt0000001|          5.6|    1550|\n",
            "|tt0000002|          6.1|     186|\n",
            "|tt0000003|          6.5|    1207|\n",
            "|tt0000004|          6.2|     113|\n",
            "|tt0000005|          6.1|    1934|\n",
            "+---------+-------------+--------+\n",
            "only showing top 5 rows\n",
            "\n"
          ],
          "name": "stdout"
        }
      ]
    },
    {
      "cell_type": "markdown",
      "metadata": {
        "id": "77NEFsJFhWGg"
      },
      "source": [
        "### Films with highest rating score and consistent number of voters\n",
        "Filtered only movies (not series or shorts)"
      ]
    },
    {
      "cell_type": "code",
      "metadata": {
        "colab": {
          "base_uri": "https://localhost:8080/"
        },
        "id": "Bx6QebSlI4gV",
        "outputId": "e9941d77-0cf0-44d4-b9e7-72049f293d4c"
      },
      "source": [
        "query = \"\"\"SELECT originalTitle,numVotes AS votes, averageRating as stars \n",
        "           FROM title_ratings_s \n",
        "           INNER JOIN title_basics_s as t\n",
        "           ON title_ratings_s.tconst = t.tconst\n",
        "           WHERE titleType = 'movie'\n",
        "           AND numVotes > 200\n",
        "           ORDER BY stars DESC\"\"\"\n",
        "\n",
        "res = spark.sql(query)\n",
        "res.show(truncate = False)"
      ],
      "execution_count": null,
      "outputs": [
        {
          "output_type": "stream",
          "text": [
            "+-----------------------------------------------------------------------+-----+-----+\n",
            "|originalTitle                                                          |votes|stars|\n",
            "+-----------------------------------------------------------------------+-----+-----+\n",
            "|Gini Helida Kathe                                                      |425  |9.8  |\n",
            "|Randhawa                                                               |816  |9.8  |\n",
            "|Square One                                                             |498  |9.8  |\n",
            "|Hare Krishna! The Mantra, the Movement and the Swami Who Started It All|1200 |9.7  |\n",
            "|Android Kunjappan Version 5.25                                         |1175 |9.6  |\n",
            "|Fan                                                                    |1010 |9.6  |\n",
            "|Mama's Heart. Gongadze                                                 |502  |9.6  |\n",
            "|Retrocausality                                                         |1420 |9.5  |\n",
            "|Yeh Suhaagraat Impossible                                              |635  |9.5  |\n",
            "|The Brighton Miracle                                                   |617  |9.5  |\n",
            "|Safe                                                                   |1017 |9.5  |\n",
            "|Svet Koji Nestaje                                                      |245  |9.5  |\n",
            "|Jibon Theke Neya                                                       |1651 |9.4  |\n",
            "|Zana                                                                   |3932 |9.4  |\n",
            "|Family of Thakurganj                                                   |897  |9.4  |\n",
            "|The Nagano Tapes: Rewound, Replayed & Reviewed                         |204  |9.4  |\n",
            "|The Elder Scrolls V: Skyrim                                            |24007|9.4  |\n",
            "|Hababam Sinifi                                                         |34491|9.4  |\n",
            "|Shibu                                                                  |533  |9.4  |\n",
            "|Our Little Haven                                                       |357  |9.4  |\n",
            "+-----------------------------------------------------------------------+-----+-----+\n",
            "only showing top 20 rows\n",
            "\n"
          ],
          "name": "stdout"
        }
      ]
    },
    {
      "cell_type": "markdown",
      "metadata": {
        "id": "sn_JyRA8hhcG"
      },
      "source": [
        "### Films produced every year"
      ]
    },
    {
      "cell_type": "code",
      "metadata": {
        "colab": {
          "base_uri": "https://localhost:8080/"
        },
        "id": "bnquReBNI4jH",
        "outputId": "5638a4aa-59c7-4292-9b20-c4575ab13055"
      },
      "source": [
        "query2 = \"\"\"SELECT COUNT(tconst) as films, startYear as year \n",
        "           FROM title_basics_s \n",
        "           WHERE titleType = 'movie' \n",
        "           AND title_basics_s.startYear IS NOT NULL\n",
        "           GROUP BY year\n",
        "           ORDER BY year ASC\n",
        "           LIMIT 126 \"\"\"\n",
        "\n",
        "res2 = spark.sql(query2)\n",
        "res2.show(130)"
      ],
      "execution_count": null,
      "outputs": [
        {
          "output_type": "stream",
          "text": [
            "+-----+----+\n",
            "|films|year|\n",
            "+-----+----+\n",
            "|    1|1894|\n",
            "|    2|1897|\n",
            "|   26|1898|\n",
            "|   12|1899|\n",
            "|   14|1900|\n",
            "|    9|1901|\n",
            "|    6|1902|\n",
            "|   12|1903|\n",
            "|    7|1904|\n",
            "|   18|1905|\n",
            "|   30|1906|\n",
            "|   15|1907|\n",
            "|   27|1908|\n",
            "|   98|1909|\n",
            "|  110|1910|\n",
            "|  175|1911|\n",
            "|  363|1912|\n",
            "|  692|1913|\n",
            "| 1159|1914|\n",
            "| 1644|1915|\n",
            "| 2096|1916|\n",
            "| 2181|1917|\n",
            "| 2242|1918|\n",
            "| 2435|1919|\n",
            "| 2653|1920|\n",
            "| 2597|1921|\n",
            "| 2179|1922|\n",
            "| 1903|1923|\n",
            "| 1925|1924|\n",
            "| 2044|1925|\n",
            "| 1935|1926|\n",
            "| 2033|1927|\n",
            "| 2036|1928|\n",
            "| 1890|1929|\n",
            "| 1868|1930|\n",
            "| 1966|1931|\n",
            "| 2026|1932|\n",
            "| 1936|1933|\n",
            "| 1856|1934|\n",
            "| 1910|1935|\n",
            "| 2188|1936|\n",
            "| 2114|1937|\n",
            "| 1978|1938|\n",
            "| 1863|1939|\n",
            "| 1744|1940|\n",
            "| 1526|1941|\n",
            "| 1464|1942|\n",
            "| 1330|1943|\n",
            "| 1169|1944|\n",
            "| 1120|1945|\n",
            "| 1307|1946|\n",
            "| 1491|1947|\n",
            "| 1588|1948|\n",
            "| 1749|1949|\n",
            "| 1908|1950|\n",
            "| 1828|1951|\n",
            "| 2014|1952|\n",
            "| 2067|1953|\n",
            "| 2093|1954|\n",
            "| 2138|1955|\n",
            "| 2307|1956|\n",
            "| 2424|1957|\n",
            "| 2472|1958|\n",
            "| 2500|1959|\n",
            "| 2657|1960|\n",
            "| 2706|1961|\n",
            "| 2691|1962|\n",
            "| 2672|1963|\n",
            "| 2890|1964|\n",
            "| 3152|1965|\n",
            "| 3164|1966|\n",
            "| 3234|1967|\n",
            "| 3648|1968|\n",
            "| 3763|1969|\n",
            "| 4034|1970|\n",
            "| 4008|1971|\n",
            "| 3865|1972|\n",
            "| 3799|1973|\n",
            "| 3700|1974|\n",
            "| 3885|1975|\n",
            "| 3796|1976|\n",
            "| 3749|1977|\n",
            "| 3886|1978|\n",
            "| 4024|1979|\n",
            "| 3958|1980|\n",
            "| 3967|1981|\n",
            "| 3923|1982|\n",
            "| 4101|1983|\n",
            "| 4231|1984|\n",
            "| 4346|1985|\n",
            "| 4251|1986|\n",
            "| 4272|1987|\n",
            "| 4418|1988|\n",
            "| 4421|1989|\n",
            "| 4684|1990|\n",
            "| 4254|1991|\n",
            "| 4204|1992|\n",
            "| 4067|1993|\n",
            "| 4025|1994|\n",
            "| 4250|1995|\n",
            "| 4166|1996|\n",
            "| 4458|1997|\n",
            "| 4567|1998|\n",
            "| 4753|1999|\n",
            "| 4916|2000|\n",
            "| 5255|2001|\n",
            "| 5485|2002|\n",
            "| 5554|2003|\n",
            "| 6195|2004|\n",
            "| 7028|2005|\n",
            "| 7530|2006|\n",
            "| 8206|2007|\n",
            "| 9615|2008|\n",
            "|11219|2009|\n",
            "|12060|2010|\n",
            "|13073|2011|\n",
            "|14058|2012|\n",
            "|14887|2013|\n",
            "|15882|2014|\n",
            "|16517|2015|\n",
            "|17660|2016|\n",
            "|18002|2017|\n",
            "|17434|2018|\n",
            "|14927|2019|\n",
            "| 4389|2020|\n",
            "|  414|2021|\n",
            "+-----+----+\n",
            "\n"
          ],
          "name": "stdout"
        }
      ]
    },
    {
      "cell_type": "code",
      "metadata": {
        "colab": {
          "base_uri": "https://localhost:8080/",
          "height": 464
        },
        "id": "R5qCD-vtI4l9",
        "outputId": "19877dfe-f76a-4336-ba98-8bc84f8838e4"
      },
      "source": [
        "import matplotlib\n",
        "sns.set(rc={\"figure.figsize\":(14,7)})\n",
        "ax = sns.lineplot(x = \"year\", y = \"films\", data = res2.toPandas())\n",
        "ax.set(title = \"Films produced every year\", xlabel = \"Year of production\", ylabel = \"Total Films\")\n",
        "ax.set(xticks=['1894','1945','1970','2000','2020']);\n",
        "ax2 = ax.get_figure()\n",
        "ax2.savefig(\"films_every_year.png\")"
      ],
      "execution_count": null,
      "outputs": [
        {
          "output_type": "display_data",
          "data": {
            "image/png": "[encoded data removed]",
            "text/plain": [
              "<Figure size 1008x504 with 1 Axes>"
            ]
          },
          "metadata": {
            "tags": []
          }
        }
      ]
    },
    {
      "cell_type": "markdown",
      "metadata": {
        "id": "Dnv5xqHSo5lw"
      },
      "source": [
        "### Actors born every year"
      ]
    },
    {
      "cell_type": "code",
      "metadata": {
        "colab": {
          "base_uri": "https://localhost:8080/"
        },
        "id": "tAOT_Yr36CWS",
        "outputId": "c53b32ec-7681-477e-9122-9d7757a1d411"
      },
      "source": [
        "query3 = \"\"\"SELECT COUNT(nconst) as actor,birthYear\n",
        "           FROM name_basics_s \n",
        "           WHERE birthYear > 1900\n",
        "           GROUP BY birthYear\n",
        "           ORDER BY birthYear ASC\n",
        "           \n",
        "            \"\"\"\n",
        "\n",
        "res3 = spark.sql(query3)\n",
        "res3.show(130)\n"
      ],
      "execution_count": null,
      "outputs": [
        {
          "output_type": "stream",
          "text": [
            "+-----+---------+\n",
            "|actor|birthYear|\n",
            "+-----+---------+\n",
            "| 2071|     1901|\n",
            "| 1989|     1902|\n",
            "| 2047|     1903|\n",
            "| 2191|     1904|\n",
            "| 2138|     1905|\n",
            "| 2275|     1906|\n",
            "| 2362|     1907|\n",
            "| 2455|     1908|\n",
            "| 2368|     1909|\n",
            "| 2479|     1910|\n",
            "| 2421|     1911|\n",
            "| 2608|     1912|\n",
            "| 2543|     1913|\n",
            "| 2726|     1914|\n",
            "| 2550|     1915|\n",
            "| 2561|     1916|\n",
            "| 2514|     1917|\n",
            "| 2752|     1918|\n",
            "| 2784|     1919|\n",
            "| 3585|     1920|\n",
            "| 3617|     1921|\n",
            "| 3679|     1922|\n",
            "| 3666|     1923|\n",
            "| 3863|     1924|\n",
            "| 3926|     1925|\n",
            "| 4005|     1926|\n",
            "| 4050|     1927|\n",
            "| 4145|     1928|\n",
            "| 4159|     1929|\n",
            "| 4282|     1930|\n",
            "| 4013|     1931|\n",
            "| 3837|     1932|\n",
            "| 3572|     1933|\n",
            "| 3735|     1934|\n",
            "| 3649|     1935|\n",
            "| 3816|     1936|\n",
            "| 3960|     1937|\n",
            "| 4074|     1938|\n",
            "| 4166|     1939|\n",
            "| 4280|     1940|\n",
            "| 4314|     1941|\n",
            "| 4479|     1942|\n",
            "| 4640|     1943|\n",
            "| 4678|     1944|\n",
            "| 4451|     1945|\n",
            "| 4867|     1946|\n",
            "| 5245|     1947|\n",
            "| 4851|     1948|\n",
            "| 4620|     1949|\n",
            "| 4635|     1950|\n",
            "| 4551|     1951|\n",
            "| 4626|     1952|\n",
            "| 4563|     1953|\n",
            "| 4521|     1954|\n",
            "| 4694|     1955|\n",
            "| 4575|     1956|\n",
            "| 4879|     1957|\n",
            "| 4929|     1958|\n",
            "| 4946|     1959|\n",
            "| 5221|     1960|\n",
            "| 5341|     1961|\n",
            "| 5581|     1962|\n",
            "| 5644|     1963|\n",
            "| 5905|     1964|\n",
            "| 5935|     1965|\n",
            "| 5808|     1966|\n",
            "| 5952|     1967|\n",
            "| 6272|     1968|\n",
            "| 6698|     1969|\n",
            "| 7270|     1970|\n",
            "| 7145|     1971|\n",
            "| 7113|     1972|\n",
            "| 6957|     1973|\n",
            "| 7349|     1974|\n",
            "| 7473|     1975|\n",
            "| 7727|     1976|\n",
            "| 7765|     1977|\n",
            "| 8312|     1978|\n",
            "| 8313|     1979|\n",
            "| 8421|     1980|\n",
            "| 8189|     1981|\n",
            "| 8006|     1982|\n",
            "| 7499|     1983|\n",
            "| 7362|     1984|\n",
            "| 6953|     1985|\n",
            "| 6847|     1986|\n",
            "| 5981|     1987|\n",
            "| 5624|     1988|\n",
            "| 5053|     1989|\n",
            "| 4602|     1990|\n",
            "| 4093|     1991|\n",
            "| 3759|     1992|\n",
            "| 3220|     1993|\n",
            "| 2872|     1994|\n",
            "| 2499|     1995|\n",
            "| 2132|     1996|\n",
            "| 1940|     1997|\n",
            "| 1490|     1998|\n",
            "| 1063|     1999|\n",
            "|  826|     2000|\n",
            "|  669|     2001|\n",
            "|  488|     2002|\n",
            "|  381|     2003|\n",
            "|  308|     2004|\n",
            "|  239|     2005|\n",
            "|  181|     2006|\n",
            "|  153|     2007|\n",
            "|  119|     2008|\n",
            "|   98|     2009|\n",
            "|   55|     2010|\n",
            "|   47|     2011|\n",
            "|   37|     2012|\n",
            "|   24|     2013|\n",
            "|   19|     2014|\n",
            "|    7|     2015|\n",
            "|    6|     2016|\n",
            "|   10|     2017|\n",
            "|    3|     2018|\n",
            "|    1|     2019|\n",
            "+-----+---------+\n",
            "\n"
          ],
          "name": "stdout"
        }
      ]
    },
    {
      "cell_type": "code",
      "metadata": {
        "colab": {
          "base_uri": "https://localhost:8080/",
          "height": 464
        },
        "id": "4qh-Q4fv6CZY",
        "outputId": "ca3fd3fe-f61a-4f4a-a6ae-ca39b3d5fc8e"
      },
      "source": [
        "import matplotlib\n",
        "sns.set(rc={\"figure.figsize\":(14,7)})\n",
        "ax3 = sns.lineplot(x = \"birthYear\", y = \"actor\", data = res3.toPandas())\n",
        "ax3.set(title = \"Actors borned every year\", xlabel = \"Year of birth\", ylabel = \"Total actors borned that year\")\n",
        "ax3.set(xticks=['1901','1945','1970','2000']);\n",
        "ax4 = ax3.get_figure()\n",
        "ax4.savefig(\"actors_every_year.png\")"
      ],
      "execution_count": null,
      "outputs": [
        {
          "output_type": "display_data",
          "data": {
            "image/png": "[encoded data removed]",
            "text/plain": [
              "<Figure size 1008x504 with 1 Axes>"
            ]
          },
          "metadata": {
            "tags": []
          }
        }
      ]
    },
    {
      "cell_type": "markdown",
      "metadata": {
        "id": "Sv8hcNJVspTu"
      },
      "source": [
        "## MBA\n",
        "We create a dataframe having only films and actors as columns"
      ]
    },
    {
      "cell_type": "code",
      "metadata": {
        "colab": {
          "base_uri": "https://localhost:8080/"
        },
        "id": "9uUm9igv0MT6",
        "outputId": "a5fc87d2-3f59-4a10-ed0d-adb1c69b2adc"
      },
      "source": [
        "from pyspark.sql.functions import collect_set\n",
        "\n",
        "rawData = spark.sql(\"\"\"SELECT p.primaryName, o.tconst\n",
        "                       FROM name_basics_s p\n",
        "                       INNER JOIN title_principals_s o \n",
        "                       INNER JOIN title_basics_s q \n",
        "                       where o.nconst = p.nconst \n",
        "                       and o.tconst = q.tconst \n",
        "                       and o.category = 'actor' \n",
        "                       and q.titleType = 'movie' \"\"\")\n",
        "baskets = rawData.groupBy('tconst').agg(collect_set('primaryName').alias('actors'))\n",
        "baskets.createOrReplaceTempView('baskets')\n",
        "baskets.show(5,truncate = False)"
      ],
      "execution_count": null,
      "outputs": [
        {
          "output_type": "stream",
          "text": [
            "+---------+--------------------------------------------------------------------------------------------------+\n",
            "|tconst   |actors                                                                                            |\n",
            "+---------+--------------------------------------------------------------------------------------------------+\n",
            "|tt0002591|[Harry Liedtke]                                                                                   |\n",
            "|tt0003689|[William S. Rising, Octave Luzon, George W. Middleton, John Bowers, Wilbur Hudson]                |\n",
            "|tt0004272|[Wilbur Higby, Francis Ford, Harry Schumm, Ernest Shields, Eddie Boland, Edgar Keller, Burton Law]|\n",
            "|tt0004336|[Frank Farrington, Sidney Bracey, James Cruze]                                                    |\n",
            "|tt0005209|[DeWolf Hopper Sr., Max Davidson, George Walsh]                                                   |\n",
            "+---------+--------------------------------------------------------------------------------------------------+\n",
            "only showing top 5 rows\n",
            "\n"
          ],
          "name": "stdout"
        }
      ]
    },
    {
      "cell_type": "code",
      "metadata": {
        "id": "NpFg4COc0Mgh"
      },
      "source": [
        "from pyspark.ml.fpm import FPGrowth\n",
        "\n",
        "fpGrowth = FPGrowth(itemsCol='actors', minSupport=0.00001, minConfidence=0.1)\n",
        "model = fpGrowth.fit(baskets)"
      ],
      "execution_count": null,
      "outputs": []
    },
    {
      "cell_type": "markdown",
      "metadata": {
        "id": "YSXdKrKzdOPO"
      },
      "source": [
        "### Most popular Item"
      ]
    },
    {
      "cell_type": "code",
      "metadata": {
        "colab": {
          "base_uri": "https://localhost:8080/"
        },
        "id": "HXPUN3S50MoG",
        "outputId": "c5b40fb4-e328-4bb1-e8e2-bdebd344f690"
      },
      "source": [
        "mostPopularItemInABasket = model.freqItemsets\n",
        "mostPopularItemInABasket = mostPopularItemInABasket.sort('freq', ascending = False)\n",
        "mostPopularItemInABasket.createOrReplaceTempView(\"mostPopularItemInABasket\")\n",
        "\n",
        "mostPopularItemInABasket.show(10)"
      ],
      "execution_count": null,
      "outputs": [
        {
          "output_type": "stream",
          "text": [
            "+------------------+----+\n",
            "|             items|freq|\n",
            "+------------------+----+\n",
            "|    [Brahmanandam]| 798|\n",
            "|     [Adoor Bhasi]| 585|\n",
            "|[Matsunosuke Onoe]| 565|\n",
            "|    [Eddie Garcia]| 507|\n",
            "|      [Prem Nazir]| 438|\n",
            "|    [Sung-il Shin]| 411|\n",
            "|    [Paquito Diaz]| 391|\n",
            "|[Masayoshi Nogami]| 387|\n",
            "|       [Mammootty]| 381|\n",
            "|         [Bahadur]| 348|\n",
            "+------------------+----+\n",
            "only showing top 10 rows\n",
            "\n"
          ],
          "name": "stdout"
        }
      ]
    },
    {
      "cell_type": "markdown",
      "metadata": {
        "id": "UaudHdfTdVZ_"
      },
      "source": [
        "### Association Rules"
      ]
    },
    {
      "cell_type": "code",
      "metadata": {
        "colab": {
          "base_uri": "https://localhost:8080/"
        },
        "id": "fc7dsRiY0MtA",
        "outputId": "f9116b63-05b0-4ed7-8647-23088d266fa8"
      },
      "source": [
        "# Display generated association rules.\n",
        "associationRules = model.associationRules\n",
        "associationRules.createOrReplaceTempView(\"associationRules\")\n",
        "associationRules.show(10, truncate = False)"
      ],
      "execution_count": null,
      "outputs": [
        {
          "output_type": "stream",
          "text": [
            "+----------------------------+----------------------+-------------------+------------------+---------------------+\n",
            "|antecedent                  |consequent            |confidence         |lift              |support              |\n",
            "+----------------------------+----------------------+-------------------+------------------+---------------------+\n",
            "|[Lo Ban-Chiu, Hark-Suen Lau]|[Sau-Nin Wong]        |0.7777777777777778 |1787.2859078590786|1.8574438388587864E-5|\n",
            "|[Lo Ban-Chiu, Hark-Suen Lau]|[Suet-Fei Leong]      |0.5555555555555556 |2829.2942942942946|1.3267455991848474E-5|\n",
            "|[Lo Ban-Chiu, Hark-Suen Lau]|[Tsi-Hau Tsat]        |0.4444444444444444 |5775.662835249042 |1.061396479347878E-5 |\n",
            "|[Gustav Botz, Henry Bender] |[Louis Brody]         |0.8                |17734.682352941178|1.061396479347878E-5 |\n",
            "|[Gustav Botz, Henry Bender] |[Georg Alexander]     |0.8                |2200.6540145985405|1.061396479347878E-5 |\n",
            "|[Kikuya Okada, Ryûsui Iwami]|[Tsumasaburô Bandô]   |1.0                |2617.097222222222 |1.3267455991848474E-5|\n",
            "|[Rahmat Kartolo]            |[Farouk Afero]        |0.5                |5092.72972972973  |1.592094719021817E-5 |\n",
            "|[Rahmat Kartolo]            |[Ismed M. Noor]       |0.3333333333333333 |8972.904761904761 |1.061396479347878E-5 |\n",
            "|[Bhanu Pratap Singh]        |[Aaditya Pratap Singh]|0.6666666666666666 |50248.26666666667 |1.061396479347878E-5 |\n",
            "|[Frank James]               |[Ray Victory]         |0.12307692307692308|748.1131513647642 |2.122792958695756E-5 |\n",
            "+----------------------------+----------------------+-------------------+------------------+---------------------+\n",
            "only showing top 10 rows\n",
            "\n"
          ],
          "name": "stdout"
        }
      ]
    },
    {
      "cell_type": "markdown",
      "metadata": {
        "id": "AxQAt3K0ZLfa"
      },
      "source": [
        "### Predictions"
      ]
    },
    {
      "cell_type": "code",
      "metadata": {
        "colab": {
          "base_uri": "https://localhost:8080/"
        },
        "id": "AD4EWNUI0Mxf",
        "outputId": "a85bbaab-2f38-4cc2-c7b5-d396720965a5"
      },
      "source": [
        "# transform examines the input items against all the association rules and summarize the consequents as prediction\n",
        "associations = model.transform(baskets)\n",
        "associations.show(10)"
      ],
      "execution_count": null,
      "outputs": [
        {
          "output_type": "stream",
          "text": [
            "+---------+--------------------+--------------------+\n",
            "|   tconst|              actors|          prediction|\n",
            "+---------+--------------------+--------------------+\n",
            "|tt0002591|     [Harry Liedtke]|                  []|\n",
            "|tt0003689|[William S. Risin...|                  []|\n",
            "|tt0004272|[Wilbur Higby, Fr...|[Roy Stewart, Phi...|\n",
            "|tt0004336|[Frank Farrington...|  [Theodore Roberts]|\n",
            "|tt0005209|[DeWolf Hopper Sr...|   [James A. Marcus]|\n",
            "|tt0005605|[Arthur Bauer, No...|     [Harris Gordon]|\n",
            "|tt0005793|  [Wingold Lawrence]|                  []|\n",
            "|tt0006204|[George Periolat,...|[Harvey Clark, Al...|\n",
            "|tt0006207|[Hal Forde, T. Ju...|     [Robert Walker]|\n",
            "|tt0006441|[Martin Kinney, G...|                  []|\n",
            "+---------+--------------------+--------------------+\n",
            "only showing top 10 rows\n",
            "\n"
          ],
          "name": "stdout"
        }
      ]
    },
    {
      "cell_type": "markdown",
      "metadata": {
        "id": "Rp4Ot8yfZVHc"
      },
      "source": [
        "###Associations having Keanu Reeves as Prediction"
      ]
    },
    {
      "cell_type": "code",
      "metadata": {
        "id": "RrYHorW_Iw25"
      },
      "source": [
        "from pyspark.sql.functions import array_contains\n",
        "selected_actor = associations.filter(array_contains(associations.prediction,'Keanu Reeves'))"
      ],
      "execution_count": null,
      "outputs": []
    },
    {
      "cell_type": "code",
      "metadata": {
        "colab": {
          "base_uri": "https://localhost:8080/"
        },
        "id": "dLX8h6XlJvYN",
        "outputId": "7b8268cf-2b64-4b58-8196-0e624a980d22"
      },
      "source": [
        "selected_actor.show(10, truncate = False)"
      ],
      "execution_count": null,
      "outputs": [
        {
          "output_type": "stream",
          "text": [
            "+----------+-------------------------------------------------------------------+----------------------------+\n",
            "|tconst    |actors                                                             |prediction                  |\n",
            "+----------+-------------------------------------------------------------------+----------------------------+\n",
            "|tt0104073 |[René Assa, Jeff Goldblum, Laurence Fishburne]                     |[Keanu Reeves]              |\n",
            "|tt6251004 |[Laurence Fishburne]                                               |[Keanu Reeves]              |\n",
            "|tt3703908 |[Thomas Jane, Laurence Fishburne]                                  |[Keanu Reeves]              |\n",
            "|tt0181739 |[David Hyde Pierce, Chris Rock, Laurence Fishburne]                |[Adam Sandler, Keanu Reeves]|\n",
            "|tt1355644 |[Michael Sheen, Chris Pratt, Laurence Fishburne]                   |[Keanu Reeves]              |\n",
            "|tt10239572|[Glenn Plummer, Thomas Jane, Drew Van Acker, Laurence Fishburne]   |[Keanu Reeves]              |\n",
            "|tt0119081 |[Sam Neill, Laurence Fishburne]                                    |[Keanu Reeves]              |\n",
            "|tt0099939 |[Christopher Walken, Victor Argo, David Caruso, Laurence Fishburne]|[Keanu Reeves]              |\n",
            "|tt0112443 |[Frank Langella, Michael Beach, Laurence Fishburne]                |[Keanu Reeves]              |\n",
            "|tt0473188 |[Paul Walker, Jason Flemyng, Laurence Fishburne]                   |[Keanu Reeves, Vin Diesel]  |\n",
            "+----------+-------------------------------------------------------------------+----------------------------+\n",
            "only showing top 10 rows\n",
            "\n"
          ],
          "name": "stdout"
        }
      ]
    },
    {
      "cell_type": "markdown",
      "metadata": {
        "id": "zLHbSKt6Zh_3"
      },
      "source": [
        "### Most Frequent set of 2 items"
      ]
    },
    {
      "cell_type": "code",
      "metadata": {
        "colab": {
          "base_uri": "https://localhost:8080/"
        },
        "id": "eo7Bvs3QDARy",
        "outputId": "40738948-70d4-4276-c330-d037b8ae2084"
      },
      "source": [
        "query = \"\"\"select items, freq\n",
        "           from mostPopularItemInABasket\n",
        "           where size(items) > 1 and size(items) < 3\n",
        "           order by freq desc\n",
        "           limit 20\"\"\"\n",
        "spark.sql(query).show(10, truncate = False)"
      ],
      "execution_count": null,
      "outputs": [
        {
          "output_type": "stream",
          "text": [
            "+----------------------------------------+----+\n",
            "|items                                   |freq|\n",
            "+----------------------------------------+----+\n",
            "|[Prem Nazir, Adoor Bhasi]               |237 |\n",
            "|[Bahadur, Adoor Bhasi]                  |169 |\n",
            "|[Kijaku Ôtani, Matsunosuke Onoe]        |147 |\n",
            "|[Kitsuraku Arashi, Matsunosuke Onoe]    |126 |\n",
            "|[Thikkurisi Sukumaran Nair, Adoor Bhasi]|122 |\n",
            "|[Kitsuraku Arashi, Kijaku Ôtani]        |113 |\n",
            "|[Suminojo Ichikawa, Matsunosuke Onoe]   |113 |\n",
            "|[Panchito, Dolphy]                      |103 |\n",
            "|[Thikkurisi Sukumaran Nair, Prem Nazir] |101 |\n",
            "|[Suminojo Ichikawa, Kijaku Ôtani]       |101 |\n",
            "|[Sen'nosuke Nakamura, Matsunosuke Onoe] |97  |\n",
            "|[Suminojo Ichikawa, Kitsuraku Arashi]   |97  |\n",
            "|[Bahadur, Prem Nazir]                   |96  |\n",
            "|[Hôshô Bandô, Ritoku Arashi]            |96  |\n",
            "|[Paravoor Bharathan, Adoor Bhasi]       |92  |\n",
            "|[Enshô Jitsukawa, Ritoku Arashi]        |90  |\n",
            "|[Madhu, Adoor Bhasi]                    |89  |\n",
            "|[Sen'nosuke Nakamura, Kijaku Ôtani]     |84  |\n",
            "|[T.S. Muthaiah, Adoor Bhasi]            |83  |\n",
            "|[Hôshô Bandô, Enshô Jitsukawa]          |83  |\n",
            "+----------------------------------------+----+\n",
            "\n"
          ],
          "name": "stdout"
        }
      ]
    },
    {
      "cell_type": "markdown",
      "metadata": {
        "id": "mGitYxefZsGG"
      },
      "source": [
        "### Best Association Rules"
      ]
    },
    {
      "cell_type": "code",
      "metadata": {
        "colab": {
          "base_uri": "https://localhost:8080/"
        },
        "id": "vwuJdC0jGWnr",
        "outputId": "ee5025d2-abe3-424a-81da-b29a5f5d6eb3"
      },
      "source": [
        "query = \"\"\"select antecedent as `antecedent (if)`, consequent as `consequent (then)`, confidence, lift\n",
        "           from associationRules\n",
        "           order by confidence DESC\n",
        "           limit 50\"\"\"\n",
        "\n",
        "spark.sql(query).show(10)"
      ],
      "execution_count": null,
      "outputs": [
        {
          "output_type": "stream",
          "text": [
            "+--------------------+------------------+----------+------------------+\n",
            "|     antecedent (if)| consequent (then)|confidence|              lift|\n",
            "+--------------------+------------------+----------+------------------+\n",
            "|[Al Ritz, The Rit...|      [Jimmy Ritz]|       1.0|41873.555555555555|\n",
            "|[Utae Nakamura, S...|    [Kijaku Ôtani]|       1.0|2340.7577639751553|\n",
            "|[Mario Escudero, ...|     [Vic Varrion]|       1.0|13459.357142857143|\n",
            "|[Shôkô Ichikawa, ...|[Kanzaburô Arashi]|       1.0| 6978.925925925925|\n",
            "|[Mario Escudero, ...|    [Lito Anzures]|       1.0|3589.1619047619047|\n",
            "|       [Óbis József]|    [Bolla Attila]|       1.0|37686.200000000004|\n",
            "|[Mario Escudero, ...|    [Victor Bravo]|       1.0|3221.0427350427353|\n",
            "|       [Óbis József]|     [Szabó Antal]|       1.0| 34260.18181818182|\n",
            "|[Teinosuke Kinuga...| [Kaichi Yamamoto]|       1.0| 1728.724770642202|\n",
            "|[Masashi Hirose, ...|    [Akira Kamiya]|       1.0| 13957.85185185185|\n",
            "+--------------------+------------------+----------+------------------+\n",
            "only showing top 10 rows\n",
            "\n"
          ],
          "name": "stdout"
        }
      ]
    }
  ]
}